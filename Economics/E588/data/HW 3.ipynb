{
 "metadata": {
  "name": "HW 3"
 },
 "nbformat": 3,
 "nbformat_minor": 0,
 "worksheets": [
  {
   "cells": [
    {
     "cell_type": "code",
     "collapsed": false,
     "input": [
      "import pandas as pd\n",
      "import statsmodels.api as sm\n",
      "from statsmodels.formula.api import ols\n",
      "data = pd.DataFrame.from_csv('sp.csv')"
     ],
     "language": "python",
     "metadata": {},
     "outputs": [],
     "prompt_number": 1
    },
    {
     "cell_type": "code",
     "collapsed": false,
     "input": [
      "# 6.a\n",
      "dist = pd.Series([data.mean(), data.std(), data.skew(), data.kurt()], \n",
      "                 index=['Mean', 'Std. Dev', 'Skewness', 'Kurtosis'])\n",
      "dist"
     ],
     "language": "python",
     "metadata": {},
     "outputs": [
      {
       "output_type": "pyout",
       "prompt_number": 2,
       "text": [
        "Mean         [0.0490487838695]\n",
        "Std. Dev      [0.894433584203]\n",
        "Skewness    [-0.0160014985483]\n",
        "Kurtosis       [2.65606505771]"
       ]
      }
     ],
     "prompt_number": 2
    },
    {
     "cell_type": "code",
     "collapsed": false,
     "input": [
      "# 6.b\n",
      "data_set = sm.add_constant(data, prepend=0)\n",
      "res = sm.OLS(data_set['x'], data_set['const']).fit()\n",
      "print 'Results for basic case (reg y)'\n",
      "print res.summary()\n",
      "data_set['lagged'] = sm.tsa.lagmat(data_set['x'], 1)\n",
      "resid = pd.DataFrame(res.resid, columns=['e'])\n",
      "resid['l1'] = sm.tsa.lagmat(resid['e'], 1)\n",
      "model = 'e ~ l1'\n",
      "lag_res = ols(model, data=resid).fit()\n",
      "print '\\n'*3 + 'Results for lagged errors'\n",
      "print lag_res.summary()"
     ],
     "language": "python",
     "metadata": {},
     "outputs": [
      {
       "output_type": "stream",
       "stream": "stdout",
       "text": [
        "Results for basic case (reg y)\n",
        "                            OLS Regression Results                            \n",
        "==============================================================================\n",
        "Dep. Variable:                      x   R-squared:                      -0.000\n",
        "Model:                            OLS   Adj. R-squared:                 -0.000\n",
        "Method:                 Least Squares   F-statistic:                      -inf\n",
        "Date:                Tue, 12 Feb 2013   Prob (F-statistic):                nan\n",
        "Time:                        20:50:01   Log-Likelihood:                -4890.4\n",
        "No. Observations:                3741   AIC:                             9783.\n",
        "Df Residuals:                    3740   BIC:                             9789.\n",
        "Df Model:                           0                                         \n",
        "==============================================================================\n",
        "                 coef    std err          t      P>|t|      [95.0% Conf. Int.]\n",
        "------------------------------------------------------------------------------\n",
        "const          0.0490      0.015      3.354      0.001         0.020     0.078\n",
        "==============================================================================\n",
        "Omnibus:                      237.952   Durbin-Watson:                   1.881\n",
        "Prob(Omnibus):                  0.000   Jarque-Bera (JB):             1095.546\n",
        "Skew:                          -0.016   Prob(JB):                    1.27e-238\n",
        "Kurtosis:                       5.651   Cond. No.                         1.00\n",
        "==============================================================================\n",
        "\n",
        "\n",
        "\n",
        "Results for lagged errors\n",
        "                            OLS Regression Results                            \n",
        "==============================================================================\n",
        "Dep. Variable:                      e   R-squared:                       0.004\n",
        "Model:                            OLS   Adj. R-squared:                  0.003\n",
        "Method:                 Least Squares   F-statistic:                     13.22\n",
        "Date:                Tue, 12 Feb 2013   Prob (F-statistic):           0.000281\n",
        "Time:                        20:50:01   Log-Likelihood:                -4883.8\n",
        "No. Observations:                3741   AIC:                             9772.\n",
        "Df Residuals:                    3739   BIC:                             9784.\n",
        "Df Model:                           1                                         \n",
        "==============================================================================\n",
        "                 coef    std err          t      P>|t|      [95.0% Conf. Int.]\n",
        "------------------------------------------------------------------------------\n",
        "Intercept    1.63e-06      0.015      0.000      1.000        -0.029     0.029\n",
        "l1             0.0593      0.016      3.635      0.000         0.027     0.091\n",
        "==============================================================================\n",
        "Omnibus:                      239.725   Durbin-Watson:                   2.000\n",
        "Prob(Omnibus):                  0.000   Jarque-Bera (JB):             1113.144\n",
        "Skew:                          -0.003   Prob(JB):                    1.92e-242\n",
        "Kurtosis:                       5.672   Cond. No.                         1.12\n",
        "=============================================================================="
       ]
      },
      {
       "output_type": "stream",
       "stream": "stdout",
       "text": [
        "\n"
       ]
      }
     ],
     "prompt_number": 11
    },
    {
     "cell_type": "code",
     "collapsed": false,
     "input": [],
     "language": "python",
     "metadata": {},
     "outputs": []
    }
   ],
   "metadata": {}
  }
 ]
}