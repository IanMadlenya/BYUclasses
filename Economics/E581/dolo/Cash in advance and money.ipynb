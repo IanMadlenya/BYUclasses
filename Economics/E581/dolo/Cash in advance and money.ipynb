{
 "metadata": {
  "name": "Cash in advance and money"
 },
 "nbformat": 3,
 "nbformat_minor": 0,
 "worksheets": [
  {
   "cells": [
    {
     "cell_type": "code",
     "collapsed": false,
     "input": [
      "from dolo import yaml_import"
     ],
     "language": "python",
     "metadata": {},
     "outputs": [],
     "prompt_number": 1
    },
    {
     "cell_type": "code",
     "collapsed": false,
     "input": [
      "model = yaml_import('cash_in_advance.yaml')"
     ],
     "language": "python",
     "metadata": {},
     "outputs": [],
     "prompt_number": 6
    },
    {
     "cell_type": "code",
     "collapsed": false,
     "input": [
      "model"
     ],
     "language": "python",
     "metadata": {},
     "outputs": [
      {
       "html": [
        "<table>\t<tr>\n",
        "\t\t<td> </td>\n",
        "\t\t<td>Equations </td>\n",
        "</tr>\n",
        "\t<tr>\n",
        "\t\t<td>1 </td>\n",
        "\t\t<td>$g_{t} = \\Psi g_{t-1} + gbar \\left(- \\Psi + 1\\right) + \\epsilon_{g,t}$ </td>\n",
        "\t\t<td>-0.0091 </td>\n",
        "</tr>\n",
        "\t<tr>\n",
        "\t\t<td>2 </td>\n",
        "\t\t<td>$z_{t} = \\rho z_{t-1} + \\epsilon_{z,t}$ </td>\n",
        "\t\t<td>0.0 </td>\n",
        "</tr>\n",
        "\t<tr>\n",
        "\t\t<td>3 </td>\n",
        "\t\t<td>$M_{t} = M_{t-1} g_{t}$ </td>\n",
        "\t\t<td>0.0 </td>\n",
        "</tr>\n",
        "\t<tr>\n",
        "\t\t<td>4 </td>\n",
        "\t\t<td>$lam_{t} = e^{z_{t}}$ </td>\n",
        "\t\t<td>-1.0 </td>\n",
        "</tr>\n",
        "\t<tr>\n",
        "\t\t<td>5 </td>\n",
        "\t\t<td>$u_{t} = \\frac{c_{t}^{- \\gamma + 1} -1}{- \\gamma + 1} + \\frac{h_{t} \\left(\\frac{\\left(- h_{0} + 1\\right)^{- \\gamma + 1} -1}{- \\gamma + 1}\\right)^{B}}{h_{0}}$ </td>\n",
        "\t\t<td>inf </td>\n",
        "</tr>\n",
        "</table>"
       ],
       "output_type": "pyout",
       "prompt_number": 7,
       "text": [
        "{'covariances': [sigma_z,       0]\n",
        "[      0, sigma_g],\n",
        " 'equations': [g == Psi*g(-1) + gbar*(-Psi + 1) + epsilon_g,\n",
        "  z == rho*z(-1) + epsilon_z,\n",
        "  M == M(-1)*g,\n",
        "  lam == exp(z),\n",
        "  u == (c**(-gamma + 1) - 1)/(-gamma + 1) + h*(((-h0 + 1)**(-gamma + 1) - 1)/(-gamma + 1))**B/h0],\n",
        " 'equations_groups': OrderedDict(),\n",
        " 'init_values': {},\n",
        " 'name': 'cash_in_advance',\n",
        " 'original_data': {'calibration': {'covariances': '[[sigma_z, 0], [0, sigma_g]]\\n',\n",
        "   'parameters': {'A': 1,\n",
        "    'B': 2.5,\n",
        "    'Psi': 0.09,\n",
        "    'alpha': 0.00375,\n",
        "    'beta': 0.995,\n",
        "    'delta': 0.025,\n",
        "    'gamma': 2.0,\n",
        "    'gbar': 0.01,\n",
        "    'h0': 0.583,\n",
        "    'hbar': 0.3,\n",
        "    'n': 0.00125,\n",
        "    'rho': 0.0995,\n",
        "    'sigma_g': 0.01,\n",
        "    'sigma_z': 0.02,\n",
        "    'theta': 0.33}},\n",
        "  'declarations': {'parameters': ['gamma',\n",
        "    'beta',\n",
        "    'delta',\n",
        "    'theta',\n",
        "    'hbar',\n",
        "    'A',\n",
        "    'B',\n",
        "    'h0',\n",
        "    'n',\n",
        "    'alpha',\n",
        "    'gbar',\n",
        "    'rho',\n",
        "    'sigma_z',\n",
        "    'Psi',\n",
        "    'sigma_g'],\n",
        "   'shocks': ['epsilon_z', 'epsilon_g'],\n",
        "   'variables': ['c',\n",
        "    'k',\n",
        "    'h',\n",
        "    'Y',\n",
        "    'w',\n",
        "    'r',\n",
        "    'M',\n",
        "    'P',\n",
        "    'I',\n",
        "    'u',\n",
        "    'lam',\n",
        "    'g',\n",
        "    'z']},\n",
        "  'equations': ['g = (1 - Psi) * gbar + Psi * g(-1) + epsilon_g',\n",
        "   'z = rho * z(-1) + epsilon_z',\n",
        "   'M = M(-1) * g',\n",
        "   'lam = exp(z)',\n",
        "   'u = 1 / (1 - gamma) * (c **(1 - gamma) - 1) + h / h0 * (1 / (1 - gamma) * ((1 - h0) **(1 - gamma) -1)) ** B']},\n",
        " 'parameters_ordering': [gamma,\n",
        "  beta,\n",
        "  delta,\n",
        "  theta,\n",
        "  hbar,\n",
        "  A,\n",
        "  B,\n",
        "  h0,\n",
        "  n,\n",
        "  alpha,\n",
        "  gbar,\n",
        "  rho,\n",
        "  sigma_z,\n",
        "  Psi,\n",
        "  sigma_g],\n",
        " 'parameters_values': {A: 1,\n",
        "  B: 2.5,\n",
        "  Psi: 0.09,\n",
        "  alpha: 0.00375,\n",
        "  beta: 0.995,\n",
        "  delta: 0.025,\n",
        "  gamma: 2.0,\n",
        "  gbar: 0.01,\n",
        "  h0: 0.583,\n",
        "  hbar: 0.3,\n",
        "  n: 0.00125,\n",
        "  rho: 0.0995,\n",
        "  sigma_g: 0.01,\n",
        "  sigma_z: 0.02,\n",
        "  theta: 0.33},\n",
        " 'shocks_ordering': [epsilon_z, epsilon_g],\n",
        " 'variables_groups': None,\n",
        " 'variables_ordering': [c, k, h, Y, w, r, M, P, I, u, lam, g, z]}"
       ]
      }
     ],
     "prompt_number": 7
    },
    {
     "cell_type": "code",
     "collapsed": false,
     "input": [
      "model.variables"
     ],
     "language": "python",
     "metadata": {},
     "outputs": [
      {
       "output_type": "pyout",
       "prompt_number": 8,
       "text": [
        "[c, k, h, Y, w, r, M, P, I, u, lam, g, z]"
       ]
      }
     ],
     "prompt_number": 8
    },
    {
     "cell_type": "code",
     "collapsed": false,
     "input": [
      "model.shocks"
     ],
     "language": "python",
     "metadata": {},
     "outputs": [
      {
       "output_type": "pyout",
       "prompt_number": 9,
       "text": [
        "[epsilon_z, epsilon_g]"
       ]
      }
     ],
     "prompt_number": 9
    },
    {
     "cell_type": "code",
     "collapsed": false,
     "input": [
      "model.parameters_values"
     ],
     "language": "python",
     "metadata": {},
     "outputs": [
      {
       "output_type": "pyout",
       "prompt_number": 11,
       "text": [
        "{A: 1,\n",
        " B: 2.5,\n",
        " Psi: 0.09,\n",
        " alpha: 0.00375,\n",
        " beta: 0.995,\n",
        " delta: 0.025,\n",
        " gamma: 2.0,\n",
        " gbar: 0.01,\n",
        " h0: 0.583,\n",
        " hbar: 0.3,\n",
        " n: 0.00125,\n",
        " rho: 0.0995,\n",
        " sigma_g: 0.01,\n",
        " sigma_z: 0.02,\n",
        " theta: 0.33}"
       ]
      }
     ],
     "prompt_number": 11
    },
    {
     "cell_type": "code",
     "collapsed": false,
     "input": [],
     "language": "python",
     "metadata": {},
     "outputs": []
    }
   ],
   "metadata": {}
  }
 ]
}