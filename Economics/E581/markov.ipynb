{
 "metadata": {
  "name": "markov"
 },
 "nbformat": 3,
 "nbformat_minor": 0,
 "worksheets": [
  {
   "cells": [
    {
     "cell_type": "markdown",
     "metadata": {},
     "source": [
      "# Spencer Lyon\n",
      "\n",
      "## Econ 581 homework 6: Recursive models and Markov processes\n",
      "\n",
      "### Problem 1\n",
      "\n",
      "We are given the following\n",
      "\n",
      "* $Y_t = A K_t ^{\\theta}$\n",
      "* $K_{t+1} = I_t$\n",
      "* $C_t = Y_t - I_t$\n",
      "* $u(C) = ln(c)$\n",
      "\n",
      "We can now write the Bellman equation\n",
      "\n",
      "$$V(K) = \\max_{K} ln(AK^{\\theta} - K') + \\beta  V(K')$$\n",
      "\n",
      "The *first order condition* is $u'(c) = \\beta * V'(K')$   \n",
      "\n",
      ">(if you substitute $K' = I = Y - C$ you get a neagive sign on the $V'$ term. Then set equal to zero and solve for $u'(c)$)\n",
      "\n",
      "The *envelope condition* is $V'(k) = u'(c) A \\theta K^{\\theta - 1}$\n",
      "\n",
      "This makes the *Euler Equation* become $u'(c) = \\beta u'(c) A \\theta K^{\\theta - 1}$\n",
      "\n",
      "With log utility $u'(c) = \\frac{1}{c}$\n",
      "\n",
      "The simplified *Euler equation* is $$\\frac{C'}{C} = \\theta \\beta A K'^{\\theta-1}$$\n",
      "\n",
      "MISSING STEP FOR HOW TO VERIFY POLICY FUNCTION\n",
      "\n",
      "The final form of the value function is the following:\n",
      "$$V(K) = ln(AK^{\\theta} - \\beta \\theta A K^{\\theta}) + \\beta V(\\beta \\theta A K^{\\theta})$$"
     ]
    },
    {
     "cell_type": "markdown",
     "metadata": {},
     "source": [
      "### Problem 2"
     ]
    },
    {
     "cell_type": "code",
     "collapsed": false,
     "input": [
      "import numpy as np\n",
      "import pandas as pd\n",
      "import matplotlib.pyplot as plt\n",
      "from numpy import asarray\n",
      "from pandas.io.data import DataReader\n",
      "import datetime as dt\n",
      "from dolo.numeric import filters\n",
      "\n",
      "theta = 0.35\n",
      "delta = 0.02\n",
      "\n",
      "start1 = dt.datetime(1947, 1, 1)\n",
      "end1 = dt.datetime(2012, 4, 1)\n",
      "\n",
      "output = asarray(DataReader('GDPC1', 'fred',\n",
      "                            start=start1, end=end1)).squeeze()\n",
      "\n",
      "differ = (output[1:] - output[:-1]) / output[:-1]\n",
      "ave_trend = differ.mean()\n",
      "\n",
      "filtered = filters.hp_filter(np.log(output), lam=1600)[1]\n",
      "std_filt = filtered.std(ddof=1)\n",
      "auto_corr_filt = np.corrcoef(filtered[1:], filtered[:-1], ddof=1)[0,1]\n",
      "\n",
      "T = 254\n",
      "num_sims = 10000\n",
      "g2 = np.array([0.01, -0.03])\n",
      "g3 = np.array([0.02, 0.01, -0.03])\n",
      "marcov2 = np.array([[0.9, 0.1],[0.5, 0.5]]).cumsum(1)\n",
      "marcov3 = np.array([[0.5, 0.45, 0.05],[0.05, 0.85, 0.10],[0.25, 0.25, 0.5]]).cumsum(1)\n",
      "y2_data = np.zeros((num_sims, T))\n",
      "y3_data = np.zeros((num_sims, T))\n",
      "\n"
     ],
     "language": "python",
     "metadata": {},
     "outputs": [],
     "prompt_number": 2
    },
    {
     "cell_type": "code",
     "collapsed": false,
     "input": [
      "for i in range(num_sims):\n",
      "    s2 = 0  # Start in state 1\n",
      "    s3 = 0  # Start in state 1\n",
      "    epsilon = np.random.normal(0, 0.02, T)  # generate random shocks\n",
      "    for t in range(1, T):\n",
      "        r_num = np.random.rand()\n",
      "        y2_data[i, t] = g2[s2] + y2_data[i, t - 1] + epsilon[t]\n",
      "        y3_data[i, t] = g3[s3] + y3_data[i, t - 1] + epsilon[t]\n",
      "        s2 = np.where(marcov2[s2, :] > r_num)[0][0]\n",
      "        s3 = np.where(marcov3[s3, :] > r_num)[0][0]"
     ],
     "language": "python",
     "metadata": {},
     "outputs": [],
     "prompt_number": 4
    },
    {
     "cell_type": "code",
     "collapsed": false,
     "input": [
      "def do_mc(periods=T):\n",
      "    \"\"\"does mc simulation\"\"\"\n",
      "    s2 = 0\n",
      "    s3 = 0\n",
      "    epsilon = np.random.normal(0, 0.02, T)  # generate random shocks\n",
      "    \n",
      "    y2 = np.zeros(periods)\n",
      "    y3 = np.zeros(periods)\n",
      "    \n",
      "    for t in range(1, periods):\n",
      "        r_num = np.random.rand()\n",
      "        y2[t] = g2[s2] + y2[t-1] + epsilon[t]\n",
      "        y2[t] = g3[s3] + y3[t-1] + epsilon[t]\n",
      "        s2 = np.where(marcov2[s2, :] > r_num)[0][0]\n",
      "        s3 = np.where(marcov3[s3, :] > r_num)[0][0]\n",
      "    \n",
      "    return np.array([y2, y3])"
     ],
     "language": "python",
     "metadata": {},
     "outputs": [],
     "prompt_number": 3
    },
    {
     "cell_type": "code",
     "collapsed": false,
     "input": [
      "y22 = np.zeros((num_sims, T))\n",
      "y33 = np.zeros((num_sims, T))\n",
      "for i in range(num_sims):\n",
      "    mc_data = do_mc(T)\n",
      "    y22[i, :] = mc_data[0, :]\n",
      "    y33[i, :] = mc_data[1, :]"
     ],
     "language": "python",
     "metadata": {},
     "outputs": [],
     "prompt_number": 3
    },
    {
     "cell_type": "code",
     "collapsed": false,
     "input": [
      "for i in range(num_sims):\n",
      "    s2 = 0  # Start in state 1\n",
      "    s3 = 0  # Start in state 1\n",
      "    epsilon = np.random.normal(0, 0.02, T)  # generate random shocks\n",
      "    for t in range(1, T):\n",
      "        r_num = np.random.rand()\n",
      "        y2_data[i, t] = g2[s2] + y2_data[i, t - 1] + epsilon[t]\n",
      "        y3_data[i, t] = g3[s3] + y3_data[i, t - 1] + epsilon[t]\n",
      "        s2 = np.where(marcov2[s2, :] > r_num)[0][0]\n",
      "        s3 = np.where(marcov3[s3, :] > r_num)[0][0]\n",
      "        \n",
      "    \n",
      "    "
     ],
     "language": "python",
     "metadata": {},
     "outputs": [
      {
       "ename": "KeyboardInterrupt",
       "evalue": "",
       "output_type": "pyerr",
       "traceback": [
        "\u001b[0;31m---------------------------------------------------------------------------\u001b[0m\n\u001b[0;31mKeyboardInterrupt\u001b[0m                         Traceback (most recent call last)",
        "\u001b[0;32m<ipython-input-4-1ca022b59c11>\u001b[0m in \u001b[0;36m<module>\u001b[0;34m()\u001b[0m\n\u001b[1;32m      7\u001b[0m         \u001b[0my2_data\u001b[0m\u001b[0;34m[\u001b[0m\u001b[0mi\u001b[0m\u001b[0;34m,\u001b[0m \u001b[0mt\u001b[0m\u001b[0;34m]\u001b[0m \u001b[0;34m=\u001b[0m \u001b[0mg2\u001b[0m\u001b[0;34m[\u001b[0m\u001b[0ms2\u001b[0m\u001b[0;34m]\u001b[0m \u001b[0;34m+\u001b[0m \u001b[0my2_data\u001b[0m\u001b[0;34m[\u001b[0m\u001b[0mi\u001b[0m\u001b[0;34m,\u001b[0m \u001b[0mt\u001b[0m \u001b[0;34m-\u001b[0m \u001b[0;36m1\u001b[0m\u001b[0;34m]\u001b[0m \u001b[0;34m+\u001b[0m \u001b[0mepsilon\u001b[0m\u001b[0;34m[\u001b[0m\u001b[0mt\u001b[0m\u001b[0;34m]\u001b[0m\u001b[0;34m\u001b[0m\u001b[0m\n\u001b[1;32m      8\u001b[0m         \u001b[0my3_data\u001b[0m\u001b[0;34m[\u001b[0m\u001b[0mi\u001b[0m\u001b[0;34m,\u001b[0m \u001b[0mt\u001b[0m\u001b[0;34m]\u001b[0m \u001b[0;34m=\u001b[0m \u001b[0mg3\u001b[0m\u001b[0;34m[\u001b[0m\u001b[0ms3\u001b[0m\u001b[0;34m]\u001b[0m \u001b[0;34m+\u001b[0m \u001b[0my3_data\u001b[0m\u001b[0;34m[\u001b[0m\u001b[0mi\u001b[0m\u001b[0;34m,\u001b[0m \u001b[0mt\u001b[0m \u001b[0;34m-\u001b[0m \u001b[0;36m1\u001b[0m\u001b[0;34m]\u001b[0m \u001b[0;34m+\u001b[0m \u001b[0mepsilon\u001b[0m\u001b[0;34m[\u001b[0m\u001b[0mt\u001b[0m\u001b[0;34m]\u001b[0m\u001b[0;34m\u001b[0m\u001b[0m\n\u001b[0;32m----> 9\u001b[0;31m         \u001b[0ms2\u001b[0m \u001b[0;34m=\u001b[0m \u001b[0mnp\u001b[0m\u001b[0;34m.\u001b[0m\u001b[0mwhere\u001b[0m\u001b[0;34m(\u001b[0m\u001b[0mmarcov2\u001b[0m\u001b[0;34m[\u001b[0m\u001b[0ms2\u001b[0m\u001b[0;34m,\u001b[0m \u001b[0;34m:\u001b[0m\u001b[0;34m]\u001b[0m \u001b[0;34m>\u001b[0m \u001b[0mr_num\u001b[0m\u001b[0;34m)\u001b[0m\u001b[0;34m[\u001b[0m\u001b[0;36m0\u001b[0m\u001b[0;34m]\u001b[0m\u001b[0;34m[\u001b[0m\u001b[0;36m0\u001b[0m\u001b[0;34m]\u001b[0m\u001b[0;34m\u001b[0m\u001b[0m\n\u001b[0m\u001b[1;32m     10\u001b[0m         \u001b[0ms3\u001b[0m \u001b[0;34m=\u001b[0m \u001b[0mnp\u001b[0m\u001b[0;34m.\u001b[0m\u001b[0mwhere\u001b[0m\u001b[0;34m(\u001b[0m\u001b[0mmarcov3\u001b[0m\u001b[0;34m[\u001b[0m\u001b[0ms3\u001b[0m\u001b[0;34m,\u001b[0m \u001b[0;34m:\u001b[0m\u001b[0;34m]\u001b[0m \u001b[0;34m>\u001b[0m \u001b[0mr_num\u001b[0m\u001b[0;34m)\u001b[0m\u001b[0;34m[\u001b[0m\u001b[0;36m0\u001b[0m\u001b[0;34m]\u001b[0m\u001b[0;34m[\u001b[0m\u001b[0;36m0\u001b[0m\u001b[0;34m]\u001b[0m\u001b[0;34m\u001b[0m\u001b[0m\n\u001b[1;32m     11\u001b[0m \u001b[0;34m\u001b[0m\u001b[0m\n",
        "\u001b[0;31mKeyboardInterrupt\u001b[0m: "
       ]
      }
     ],
     "prompt_number": 4
    },
    {
     "cell_type": "code",
     "collapsed": false,
     "input": [
      "def create_moments(data):\n",
      "    \"\"\"\n",
      "    gets the moments he asks for (growth rate, std, autocorr)\n",
      "    \"\"\"\n",
      "    if data.ndim == 2:\n",
      "        total_obs = data.shape[0]\n",
      "        auto_corr = np.empty(total_obs)\n",
      "        all_std = np.empty(total_obs)\n",
      "        all_growth = np.empty(total_obs)\n",
      "        \n",
      "        for obs in range(total_obs):\n",
      "            this_obs = data[obs, :]\n",
      "            diff = this_obs[2:] - this_obs[1:-1]\n",
      "            all_growth[obs] = np.mean(diff)\n",
      "            \n",
      "            filt = filters.hp_filter(np.log(this_obs), lam=1600)[1]\n",
      "            \n",
      "            all_std[obs] = np.std(filt, ddof=1)\n",
      "            auto_corr[obs] = np.corrcoef(this_obs[2:], this_obs[1:-1])[0,1]\n",
      "        \n",
      "        growth = all_growth.mean()\n",
      "        std = all_std.mean()\n",
      "        autos = auto_corr.mean()    \n",
      "\n",
      "    else:\n",
      "        diff = data[2:] - data[1:-1]\n",
      "        growth = np.mean(diff)\n",
      "        \n",
      "        filt = filters.hp_filter(np.log(data), lam=1600)[1]\n",
      "        std = np.std(filt, ddof=1)\n",
      "        autos = np.corrcoef(filt[2:], filt[1:-1])[0, 1]\n",
      "    return [growth, std, autos]"
     ],
     "language": "python",
     "metadata": {},
     "outputs": [],
     "prompt_number": 18
    },
    {
     "cell_type": "code",
     "collapsed": false,
     "input": [
      "print create_moments(y2_data)\n",
      "print create_moments(output)"
     ],
     "language": "python",
     "metadata": {},
     "outputs": [],
     "prompt_number": "*"
    },
    {
     "cell_type": "code",
     "collapsed": false,
     "input": [],
     "language": "python",
     "metadata": {},
     "outputs": []
    }
   ],
   "metadata": {}
  }
 ]
}