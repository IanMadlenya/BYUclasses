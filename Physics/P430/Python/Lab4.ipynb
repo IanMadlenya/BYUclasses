{
 "metadata": {
  "name": "Lab4"
 },
 "nbformat": 3,
 "nbformat_minor": 0,
 "worksheets": [
  {
   "cells": [
    {
     "cell_type": "markdown",
     "metadata": {},
     "source": [
      "## Spencer Lyon\n",
      "\n",
      "### Lab 4 Physics 430"
     ]
    },
    {
     "cell_type": "code",
     "collapsed": false,
     "input": [
      "from __future__ import division\n",
      "import numpy as np\n",
      "import scipy.linalg as la\n",
      "from tools import make_grid\n",
      "import matplotlib.pyplot as plt"
     ],
     "language": "python",
     "metadata": {},
     "outputs": [],
     "prompt_number": 6
    },
    {
     "cell_type": "markdown",
     "metadata": {},
     "source": [
      "### P4.1\n",
      "\n",
      "Newton's second law:  $m \\frac{\\partial ^2 x}{\\partial t^2} = \\boldsymbol{F}$\n",
      "\n",
      "In this case $\\frac{\\partial ^2 x}{\\partial t^2} = 0$ and $\\boldsymbol{F} = T(x) - G(x) = T(x) - \\mu g x$\n",
      "\n",
      "We can now solve for $T(x)$: $m (0) = T(x)  - \\mu g x \\rightarrow T(x) = \\mu g x$\n",
      "\n",
      "If we plug this back into the differential equation we get the following:\n",
      "\n",
      "$ \\mu \\frac{\\partial ^2 y}{\\partial t^2} - \\frac{\\partial}{\\partial x} \\left(T(x) \\frac{\\partial y}{\\partial x} \\right) = \\mu \\frac{\\partial ^2 y}{\\partial t^2} - \\frac{\\partial}{\\partial x} \\left(\\mu g x \\frac{\\partial y}{\\partial x} \\right) = \\frac{\\partial ^2 y}{\\partial t^2} - g \\frac{\\partial}{\\partial x} \\left(x \\frac{\\partial y}{\\partial x} \\right) = 0$"
     ]
    },
    {
     "cell_type": "markdown",
     "metadata": {},
     "source": [
      "### P4.2"
     ]
    },
    {
     "cell_type": "code",
     "collapsed": false,
     "input": [
      "L = 2\n",
      "xmin = 0\n",
      "xmax = L\n",
      "n = 50\n",
      "x, h = make_grid(xmin, xmax, n, 'cell_center_ghost')\n",
      "\n",
      "# Get number of elements in x (number of rows in A and B)\n",
      "n_rows = x.size\n",
      "\n",
      "# Create A matrix\n",
      "A = np.zeros((n_rows, n_rows))\n",
      "A[-1, -2] = 1. / 2  # Equation 4.8\n",
      "A[-1, -1] = 1. / 2  # Equation 4.8\n",
      "A[0, 0] = -1. / h  # Equation 4.10\n",
      "A[0, 1] = 1. / h  # Equation 4.10\n",
      "\n",
      "for i in xrange(1, n_rows - 1):  # Fill in all other rows of A\n",
      "    A[i, i - 1: i + 2] = [1 / (h ** 2) * x[i] + 1 / (2 * h),\n",
      "                          - 2 / (h ** 2) * x[i],\n",
      "                          1 / (h ** 2) * x[i] + 1 / (2 * h)]\n",
      "\n",
      "# Create B matrix\n",
      "B = np.eye(n_rows)\n",
      "B[-1, -1] = 0  # Equation 4.8\n",
      "B[0, 1] = 1. / 2  # Equation 4.10\n",
      "\n",
      "# Solve genearalized eigenvalue problem (eigen.m for python)\n",
      "lamb, v1 = la.eig(A, B)\n",
      "w2raw =  - lamb * 9.8  # g = 9.8\n",
      "w2, k = [np.sort(w2raw), np.argsort(w2raw)]  # sort and get indices\n",
      "\n",
      "num_plots = 3\n",
      "plt.figure(figsize = (16, 3))\n",
      "\n",
      "for i in range(4, 4 + num_plots):\n",
      "    t = r'$\\omega^2$ = %.3f, $\\omega$ = %.3f' % (w2[i], np.sqrt(w2[i]))\n",
      "    gn = v1[:, k[i]]\n",
      "    w = (i + 1) * np.pi / L\n",
      "    plt.subplot(1, num_plots, i - 3)\n",
      "    plt.plot(x, gn, 'r.')\n",
      "    plt.title(t)\n",
      "    plt.xlabel('x')\n",
      "    plt.ylabel('g(%i, x)' % (i + 1))\n",
      "    plt.draw()"
     ],
     "language": "python",
     "metadata": {},
     "outputs": [
      {
       "output_type": "display_data",
       "png": "[encoded data removed]"
      }
     ],
     "prompt_number": 18
    },
    {
     "cell_type": "markdown",
     "metadata": {},
     "source": [
      "### P4.3"
     ]
    },
    {
     "cell_type": "code",
     "collapsed": false,
     "input": [],
     "language": "python",
     "metadata": {},
     "outputs": []
    }
   ],
   "metadata": {}
  }
 ]
}